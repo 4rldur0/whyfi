{
 "cells": [
  {
   "cell_type": "code",
   "execution_count": 1,
   "metadata": {},
   "outputs": [],
   "source": [
    "import sys\n",
    "sys.path.append(\"/home/nagyeop/whyfi\")\n",
    "\n",
    "from db import CustomChroma, CustomMilvus\n",
    "\n",
    "data_path = \"/home/nagyeop/whyfi/preprocess/word_dict.csv\"\n",
    "\n",
    "def load_chroma():\n",
    "    print(\"start loading to chroma\")\n",
    "    chroma = CustomChroma()\n",
    "    chroma.load(data_path=data_path)\n",
    "\n",
    "def load_milvus():\n",
    "    print(\"start loading to milvus\")\n",
    "    milvus = CustomMilvus()\n",
    "    milvus.load(data_path=data_path)\n",
    "\n",
    "def insert_milvus():\n",
    "    print(\"start inserting to milvus\")\n",
    "    milvus = CustomMilvus()\n",
    "    milvus.insert(data_path=data_path, collection_name=\"word_700_hybrid\")"
   ]
  },
  {
   "cell_type": "code",
   "execution_count": 2,
   "metadata": {},
   "outputs": [
    {
     "name": "stdout",
     "output_type": "stream",
     "text": [
      "start inserting to milvus\n"
     ]
    },
    {
     "name": "stderr",
     "output_type": "stream",
     "text": [
      "/home/nagyeop/.cache/pypoetry/virtualenvs/whyfi-xNpmbXcZ-py3.12/lib/python3.12/site-packages/tqdm/auto.py:21: TqdmWarning: IProgress not found. Please update jupyter and ipywidgets. See https://ipywidgets.readthedocs.io/en/stable/user_install.html\n",
      "  from .autonotebook import tqdm as notebook_tqdm\n"
     ]
    },
    {
     "name": "stdout",
     "output_type": "stream",
     "text": [
      "load sparse model...\n",
      "load dense model...\n",
      "preprocessing...\n",
      "sparse vector generated\n"
     ]
    },
    {
     "name": "stderr",
     "output_type": "stream",
     "text": [
      "100%|██████████| 700/700 [01:32<00:00,  7.57it/s]\n"
     ]
    },
    {
     "name": "stdout",
     "output_type": "stream",
     "text": [
      "dense vector generated\n",
      "inserting...\n"
     ]
    }
   ],
   "source": [
    "insert_milvus()"
   ]
  }
 ],
 "metadata": {
  "kernelspec": {
   "display_name": "whyfi-xNpmbXcZ-py3.12",
   "language": "python",
   "name": "python3"
  },
  "language_info": {
   "codemirror_mode": {
    "name": "ipython",
    "version": 3
   },
   "file_extension": ".py",
   "mimetype": "text/x-python",
   "name": "python",
   "nbconvert_exporter": "python",
   "pygments_lexer": "ipython3",
   "version": "3.12.3"
  }
 },
 "nbformat": 4,
 "nbformat_minor": 2
}
