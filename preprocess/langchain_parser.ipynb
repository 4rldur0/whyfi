{
 "cells": [
  {
   "cell_type": "markdown",
   "metadata": {},
   "source": [
    "[reference 1](https://python.langchain.com/docs/how_to/document_loader_pdf/)  \n",
    "[reference 2](https://python.langchain.com/v0.2/docs/integrations/document_loaders/#pdfs)"
   ]
  },
  {
   "cell_type": "code",
   "execution_count": null,
   "metadata": {},
   "outputs": [],
   "source": [
    "# !pip install numpy\n",
    "# !pip install pandas\n",
    "# !pip install tqdm\n",
    "# !pip install langchain_community\n",
    "# !pip install pypdf\n",
    "# !sudo apt-get install tesseract-ocr\n",
    "# !sudo apt-get install tesseract-ocr-kor\n",
    "# !pip install langchain_unstructured\n",
    "# !pip install \"unstructured[pdf]\"\n",
    "# !pip install pymupdf"
   ]
  },
  {
   "cell_type": "code",
   "execution_count": 1,
   "metadata": {},
   "outputs": [],
   "source": [
    "import os\n",
    "import pandas as pd\n",
    "from tqdm import tqdm"
   ]
  },
  {
   "cell_type": "code",
   "execution_count": 2,
   "metadata": {},
   "outputs": [
    {
     "name": "stderr",
     "output_type": "stream",
     "text": [
      "[nltk_data] Downloading package punkt to /home/nagyeop/nltk_data...\n",
      "[nltk_data]   Package punkt is already up-to-date!\n"
     ]
    },
    {
     "data": {
      "text/plain": [
       "True"
      ]
     },
     "execution_count": 2,
     "metadata": {},
     "output_type": "execute_result"
    }
   ],
   "source": [
    "import nltk\n",
    "nltk.download('punkt')"
   ]
  },
  {
   "cell_type": "code",
   "execution_count": 3,
   "metadata": {},
   "outputs": [],
   "source": [
    "pdf_path = f'{os.environ['HOME_DIRECTORY']}/whyfi/preprocess/raw_data/한국은행 경제금융용어 700선.pdf'"
   ]
  },
  {
   "cell_type": "code",
   "execution_count": 4,
   "metadata": {},
   "outputs": [],
   "source": [
    "# lazy_load 보다 load가 더 빠름\n",
    "\n",
    "def load(loader, do_save=True):\n",
    "    docs = loader.load()\n",
    "    if do_save:\n",
    "        save(loader, docs)\n",
    "    return docs \n",
    "\n",
    "def lazy_load(loader, do_save=True):\n",
    "    docs = []\n",
    "    for doc in tqdm(loader.lazy_load()):\n",
    "        docs.append(doc)\n",
    "    if do_save:\n",
    "        save(loader, docs)\n",
    "    return docs\n",
    "\n",
    "def save(loader, docs):\n",
    "    df = pd.DataFrame()\n",
    "    df['text'] = [row.page_content for row in docs]\n",
    "    df['metadata'] = [row.metadata for row in docs]\n",
    "    df.to_csv(f'parser_output/{loader.__class__.__name__}_output.csv')"
   ]
  },
  {
   "cell_type": "markdown",
   "metadata": {},
   "source": [
    "## pupdf2"
   ]
  },
  {
   "cell_type": "code",
   "execution_count": 4,
   "metadata": {},
   "outputs": [],
   "source": [
    "from langchain_community.document_loaders import PyPDFLoader\n",
    "\n",
    "loader = PyPDFLoader(pdf_path)\n",
    "docs = load(loader)"
   ]
  },
  {
   "cell_type": "markdown",
   "metadata": {},
   "source": [
    "## UnstructuredLoader"
   ]
  },
  {
   "cell_type": "code",
   "execution_count": null,
   "metadata": {},
   "outputs": [
    {
     "name": "stderr",
     "output_type": "stream",
     "text": [
      "/home/nagyeop/whyfi/venv/lib/python3.12/site-packages/tqdm/auto.py:21: TqdmWarning: IProgress not found. Please update jupyter and ipywidgets. See https://ipywidgets.readthedocs.io/en/stable/user_install.html\n",
      "  from .autonotebook import tqdm as notebook_tqdm\n",
      "INFO: pikepdf C++ to Python logger bridge initialized\n",
      "INFO: PDF text extraction failed, skip text extraction...\n",
      "INFO: Reading PDF for file: /home/nagyeop//whyfi/preprocess/raw_data/한국은행 경제금융용어 700선.pdf ...\n"
     ]
    }
   ],
   "source": [
    "from langchain_unstructured import UnstructuredLoader\n",
    "from unstructured.cleaners.core import clean_extra_whitespace\n",
    "\n",
    "loader = UnstructuredLoader(\n",
    "    pdf_path,\n",
    "    strategy=\"hi_res\",\n",
    "    languages=[\"kor\"],\n",
    "#     post_processors=[clean_extra_whitespace],\n",
    ")\n",
    "docs = load(loader)"
   ]
  },
  {
   "cell_type": "markdown",
   "metadata": {},
   "source": [
    "## PDFPlumber"
   ]
  },
  {
   "cell_type": "code",
   "execution_count": 4,
   "metadata": {},
   "outputs": [],
   "source": [
    "from langchain_community.document_loaders import PDFPlumberLoader\n",
    "\n",
    "loader = PDFPlumberLoader(pdf_path)\n",
    "docs = load(loader)"
   ]
  },
  {
   "cell_type": "markdown",
   "metadata": {},
   "source": [
    "## PyPDFium2Loader"
   ]
  },
  {
   "cell_type": "code",
   "execution_count": 5,
   "metadata": {},
   "outputs": [
    {
     "name": "stderr",
     "output_type": "stream",
     "text": [
      "/home/nagyeop/whyfi/venv/lib/python3.12/site-packages/pypdfium2/_helpers/textpage.py:80: UserWarning: get_text_range() call with default params will be implicitly redirected to get_text_bounded()\n",
      "  warnings.warn(\"get_text_range() call with default params will be implicitly redirected to get_text_bounded()\")\n"
     ]
    }
   ],
   "source": [
    "from langchain_community.document_loaders import PyPDFium2Loader\n",
    "\n",
    "loader = PyPDFium2Loader(pdf_path)\n",
    "docs = load(loader)"
   ]
  },
  {
   "cell_type": "markdown",
   "metadata": {},
   "source": [
    "## PyMuPDF"
   ]
  },
  {
   "cell_type": "code",
   "execution_count": 7,
   "metadata": {},
   "outputs": [
    {
     "name": "stderr",
     "output_type": "stream",
     "text": [
      "/home/nagyeop/whyfi/venv/lib/python3.12/site-packages/langchain_community/document_loaders/parsers/pdf.py:322: UserWarning: Warning: Empty content on page 0 of document /home/nagyeop//whyfi/preprocess/raw_data/한국은행 경제금융용어 700선.pdf\n",
      "  warnings.warn(\n",
      "/home/nagyeop/whyfi/venv/lib/python3.12/site-packages/langchain_community/document_loaders/parsers/pdf.py:322: UserWarning: Warning: Empty content on page 1 of document /home/nagyeop//whyfi/preprocess/raw_data/한국은행 경제금융용어 700선.pdf\n",
      "  warnings.warn(\n",
      "/home/nagyeop/whyfi/venv/lib/python3.12/site-packages/langchain_community/document_loaders/parsers/pdf.py:322: UserWarning: Warning: Empty content on page 2 of document /home/nagyeop//whyfi/preprocess/raw_data/한국은행 경제금융용어 700선.pdf\n",
      "  warnings.warn(\n",
      "/home/nagyeop/whyfi/venv/lib/python3.12/site-packages/langchain_community/document_loaders/parsers/pdf.py:322: UserWarning: Warning: Empty content on page 16 of document /home/nagyeop//whyfi/preprocess/raw_data/한국은행 경제금융용어 700선.pdf\n",
      "  warnings.warn(\n",
      "/home/nagyeop/whyfi/venv/lib/python3.12/site-packages/langchain_community/document_loaders/parsers/pdf.py:322: UserWarning: Warning: Empty content on page 370 of document /home/nagyeop//whyfi/preprocess/raw_data/한국은행 경제금융용어 700선.pdf\n",
      "  warnings.warn(\n"
     ]
    }
   ],
   "source": [
    "from langchain_community.document_loaders import PyMuPDFLoader\n",
    "\n",
    "loader = PyMuPDFLoader(pdf_path)\n",
    "docs = load(loader)"
   ]
  },
  {
   "cell_type": "markdown",
   "metadata": {},
   "source": [
    "## PDFMiner"
   ]
  },
  {
   "cell_type": "code",
   "execution_count": 8,
   "metadata": {},
   "outputs": [],
   "source": [
    "from langchain_community.document_loaders import PDFMinerLoader\n",
    "\n",
    "loader = PDFMinerLoader(pdf_path)\n",
    "docs = load(loader)"
   ]
  }
 ],
 "metadata": {
  "kernelspec": {
   "display_name": "venv",
   "language": "python",
   "name": "python3"
  },
  "language_info": {
   "codemirror_mode": {
    "name": "ipython",
    "version": 3
   },
   "file_extension": ".py",
   "mimetype": "text/x-python",
   "name": "python",
   "nbconvert_exporter": "python",
   "pygments_lexer": "ipython3",
   "version": "3.12.3"
  }
 },
 "nbformat": 4,
 "nbformat_minor": 2
}
